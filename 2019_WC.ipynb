{
 "cells": [
  {
   "cell_type": "code",
   "execution_count": null,
   "metadata": {},
   "outputs": [],
   "source": [
    "Below are the analysis based on the matches happened in the venue \"Old Trafford\" & \"Birmingham\""
   ]
  },
  {
   "cell_type": "code",
   "execution_count": 44,
   "metadata": {},
   "outputs": [
    {
     "data": {
      "text/html": [
       "<div>\n",
       "<style scoped>\n",
       "    .dataframe tbody tr th:only-of-type {\n",
       "        vertical-align: middle;\n",
       "    }\n",
       "\n",
       "    .dataframe tbody tr th {\n",
       "        vertical-align: top;\n",
       "    }\n",
       "\n",
       "    .dataframe thead th {\n",
       "        text-align: right;\n",
       "    }\n",
       "</style>\n",
       "<table border=\"1\" class=\"dataframe\">\n",
       "  <thead>\n",
       "    <tr style=\"text-align: right;\">\n",
       "      <th></th>\n",
       "      <th>Toss</th>\n",
       "      <th>Match</th>\n",
       "      <th>MatchShort</th>\n",
       "      <th>Decision</th>\n",
       "      <th>1stInnings</th>\n",
       "      <th>Wickets1</th>\n",
       "      <th>2ndInnings</th>\n",
       "      <th>Wickets2</th>\n",
       "      <th>Result</th>\n",
       "      <th>Margin</th>\n",
       "      <th>Venue</th>\n",
       "      <th>Whowon</th>\n",
       "    </tr>\n",
       "  </thead>\n",
       "  <tbody>\n",
       "    <tr>\n",
       "      <th>0</th>\n",
       "      <td>SouthAfrica</td>\n",
       "      <td>SouthAfrica vs Australia</td>\n",
       "      <td>SAvsAus</td>\n",
       "      <td>Bat</td>\n",
       "      <td>325</td>\n",
       "      <td>6</td>\n",
       "      <td>315</td>\n",
       "      <td>10</td>\n",
       "      <td>SouthAfrica</td>\n",
       "      <td>10 runs</td>\n",
       "      <td>Old Trafford</td>\n",
       "      <td>Defend</td>\n",
       "    </tr>\n",
       "    <tr>\n",
       "      <th>1</th>\n",
       "      <td>India</td>\n",
       "      <td>India vs Westindies</td>\n",
       "      <td>IndvsWI</td>\n",
       "      <td>Bat</td>\n",
       "      <td>268</td>\n",
       "      <td>7</td>\n",
       "      <td>143</td>\n",
       "      <td>10</td>\n",
       "      <td>India</td>\n",
       "      <td>125 runs</td>\n",
       "      <td>Old Trafford</td>\n",
       "      <td>Defend</td>\n",
       "    </tr>\n",
       "    <tr>\n",
       "      <th>2</th>\n",
       "      <td>WestIndies</td>\n",
       "      <td>NewZealand vs Westindies</td>\n",
       "      <td>NZvsWI</td>\n",
       "      <td>Bowl</td>\n",
       "      <td>291</td>\n",
       "      <td>8</td>\n",
       "      <td>286</td>\n",
       "      <td>10</td>\n",
       "      <td>NewZealand</td>\n",
       "      <td>5 runs</td>\n",
       "      <td>Old Trafford</td>\n",
       "      <td>Defend</td>\n",
       "    </tr>\n",
       "    <tr>\n",
       "      <th>3</th>\n",
       "      <td>England</td>\n",
       "      <td>England vs Afghanistan</td>\n",
       "      <td>Engvs Afg</td>\n",
       "      <td>Bat</td>\n",
       "      <td>397</td>\n",
       "      <td>6</td>\n",
       "      <td>247</td>\n",
       "      <td>8</td>\n",
       "      <td>England</td>\n",
       "      <td>150 runs</td>\n",
       "      <td>Old Trafford</td>\n",
       "      <td>Defend</td>\n",
       "    </tr>\n",
       "    <tr>\n",
       "      <th>4</th>\n",
       "      <td>Pakistan</td>\n",
       "      <td>India vs Pakistan</td>\n",
       "      <td>IndvsPak</td>\n",
       "      <td>Bowl</td>\n",
       "      <td>336</td>\n",
       "      <td>5</td>\n",
       "      <td>212</td>\n",
       "      <td>6</td>\n",
       "      <td>India</td>\n",
       "      <td>89 runs</td>\n",
       "      <td>Old Trafford</td>\n",
       "      <td>Defend</td>\n",
       "    </tr>\n",
       "    <tr>\n",
       "      <th>5</th>\n",
       "      <td>NewZealand</td>\n",
       "      <td>NewZealand vs Pakistan</td>\n",
       "      <td>NzvsPak</td>\n",
       "      <td>Bat</td>\n",
       "      <td>237</td>\n",
       "      <td>6</td>\n",
       "      <td>241</td>\n",
       "      <td>4</td>\n",
       "      <td>Pakistan</td>\n",
       "      <td>6 Wickets</td>\n",
       "      <td>Birmingham</td>\n",
       "      <td>Chase</td>\n",
       "    </tr>\n",
       "    <tr>\n",
       "      <th>6</th>\n",
       "      <td>England</td>\n",
       "      <td>England vs India</td>\n",
       "      <td>EngvsInd</td>\n",
       "      <td>Bat</td>\n",
       "      <td>337</td>\n",
       "      <td>7</td>\n",
       "      <td>306</td>\n",
       "      <td>5</td>\n",
       "      <td>England</td>\n",
       "      <td>31 runs</td>\n",
       "      <td>Birmingham</td>\n",
       "      <td>Defend</td>\n",
       "    </tr>\n",
       "    <tr>\n",
       "      <th>7</th>\n",
       "      <td>India</td>\n",
       "      <td>India vs Bangladesh</td>\n",
       "      <td>Ind vs Bng</td>\n",
       "      <td>Bat</td>\n",
       "      <td>314</td>\n",
       "      <td>9</td>\n",
       "      <td>286</td>\n",
       "      <td>10</td>\n",
       "      <td>India</td>\n",
       "      <td>28 runs</td>\n",
       "      <td>Birmingham</td>\n",
       "      <td>Defend</td>\n",
       "    </tr>\n",
       "    <tr>\n",
       "      <th>8</th>\n",
       "      <td>NewZealand</td>\n",
       "      <td>SouthAfrica vs NewZealand</td>\n",
       "      <td>Sa vs Nz</td>\n",
       "      <td>Bowl</td>\n",
       "      <td>241</td>\n",
       "      <td>6</td>\n",
       "      <td>245</td>\n",
       "      <td>6</td>\n",
       "      <td>NewZealand</td>\n",
       "      <td>4 wickets</td>\n",
       "      <td>Birmingham</td>\n",
       "      <td>Chase</td>\n",
       "    </tr>\n",
       "  </tbody>\n",
       "</table>\n",
       "</div>"
      ],
      "text/plain": [
       "          Toss                      Match  MatchShort Decision  1stInnings  \\\n",
       "0  SouthAfrica   SouthAfrica vs Australia     SAvsAus      Bat         325   \n",
       "1        India        India vs Westindies     IndvsWI      Bat         268   \n",
       "2   WestIndies   NewZealand vs Westindies      NZvsWI     Bowl         291   \n",
       "3      England     England vs Afghanistan   Engvs Afg      Bat         397   \n",
       "4     Pakistan          India vs Pakistan    IndvsPak     Bowl         336   \n",
       "5   NewZealand     NewZealand vs Pakistan     NzvsPak      Bat         237   \n",
       "6      England           England vs India    EngvsInd      Bat         337   \n",
       "7        India        India vs Bangladesh  Ind vs Bng      Bat         314   \n",
       "8   NewZealand  SouthAfrica vs NewZealand    Sa vs Nz     Bowl         241   \n",
       "\n",
       "   Wickets1  2ndInnings  Wickets2       Result     Margin         Venue  \\\n",
       "0         6         315        10  SouthAfrica    10 runs  Old Trafford   \n",
       "1         7         143        10        India   125 runs  Old Trafford   \n",
       "2         8         286        10   NewZealand     5 runs  Old Trafford   \n",
       "3         6         247         8      England   150 runs  Old Trafford   \n",
       "4         5         212         6        India    89 runs  Old Trafford   \n",
       "5         6         241         4     Pakistan  6 Wickets    Birmingham   \n",
       "6         7         306         5      England    31 runs    Birmingham   \n",
       "7         9         286        10        India    28 runs    Birmingham   \n",
       "8         6         245         6   NewZealand  4 wickets    Birmingham   \n",
       "\n",
       "   Whowon  \n",
       "0  Defend  \n",
       "1  Defend  \n",
       "2  Defend  \n",
       "3  Defend  \n",
       "4  Defend  \n",
       "5   Chase  \n",
       "6  Defend  \n",
       "7  Defend  \n",
       "8   Chase  "
      ]
     },
     "execution_count": 44,
     "metadata": {},
     "output_type": "execute_result"
    }
   ],
   "source": [
    "import numpy as np\n",
    "import pandas as pd\n",
    "data_wc=pd.read_csv(\"WC_2019_OldTrafford.csv\")\n",
    "data_wc"
   ]
  },
  {
   "cell_type": "code",
   "execution_count": 10,
   "metadata": {},
   "outputs": [
    {
     "data": {
      "text/html": [
       "<div>\n",
       "<style scoped>\n",
       "    .dataframe tbody tr th:only-of-type {\n",
       "        vertical-align: middle;\n",
       "    }\n",
       "\n",
       "    .dataframe tbody tr th {\n",
       "        vertical-align: top;\n",
       "    }\n",
       "\n",
       "    .dataframe thead tr th {\n",
       "        text-align: left;\n",
       "    }\n",
       "\n",
       "    .dataframe thead tr:last-of-type th {\n",
       "        text-align: right;\n",
       "    }\n",
       "</style>\n",
       "<table border=\"1\" class=\"dataframe\">\n",
       "  <thead>\n",
       "    <tr>\n",
       "      <th></th>\n",
       "      <th colspan=\"8\" halign=\"left\">1stInnings</th>\n",
       "      <th colspan=\"2\" halign=\"left\">Wickets1</th>\n",
       "      <th>...</th>\n",
       "      <th colspan=\"2\" halign=\"left\">2ndInnings</th>\n",
       "      <th colspan=\"8\" halign=\"left\">Wickets2</th>\n",
       "    </tr>\n",
       "    <tr>\n",
       "      <th></th>\n",
       "      <th>count</th>\n",
       "      <th>mean</th>\n",
       "      <th>std</th>\n",
       "      <th>min</th>\n",
       "      <th>25%</th>\n",
       "      <th>50%</th>\n",
       "      <th>75%</th>\n",
       "      <th>max</th>\n",
       "      <th>count</th>\n",
       "      <th>mean</th>\n",
       "      <th>...</th>\n",
       "      <th>75%</th>\n",
       "      <th>max</th>\n",
       "      <th>count</th>\n",
       "      <th>mean</th>\n",
       "      <th>std</th>\n",
       "      <th>min</th>\n",
       "      <th>25%</th>\n",
       "      <th>50%</th>\n",
       "      <th>75%</th>\n",
       "      <th>max</th>\n",
       "    </tr>\n",
       "    <tr>\n",
       "      <th>Venue</th>\n",
       "      <th></th>\n",
       "      <th></th>\n",
       "      <th></th>\n",
       "      <th></th>\n",
       "      <th></th>\n",
       "      <th></th>\n",
       "      <th></th>\n",
       "      <th></th>\n",
       "      <th></th>\n",
       "      <th></th>\n",
       "      <th></th>\n",
       "      <th></th>\n",
       "      <th></th>\n",
       "      <th></th>\n",
       "      <th></th>\n",
       "      <th></th>\n",
       "      <th></th>\n",
       "      <th></th>\n",
       "      <th></th>\n",
       "      <th></th>\n",
       "      <th></th>\n",
       "    </tr>\n",
       "  </thead>\n",
       "  <tbody>\n",
       "    <tr>\n",
       "      <th>Birmingham</th>\n",
       "      <td>4.0</td>\n",
       "      <td>282.25</td>\n",
       "      <td>50.842076</td>\n",
       "      <td>237.0</td>\n",
       "      <td>240.0</td>\n",
       "      <td>277.5</td>\n",
       "      <td>319.75</td>\n",
       "      <td>337.0</td>\n",
       "      <td>4.0</td>\n",
       "      <td>7.0</td>\n",
       "      <td>...</td>\n",
       "      <td>291.0</td>\n",
       "      <td>306.0</td>\n",
       "      <td>4.0</td>\n",
       "      <td>6.25</td>\n",
       "      <td>2.629956</td>\n",
       "      <td>4.0</td>\n",
       "      <td>4.75</td>\n",
       "      <td>5.5</td>\n",
       "      <td>7.0</td>\n",
       "      <td>10.0</td>\n",
       "    </tr>\n",
       "    <tr>\n",
       "      <th>Old Trafford</th>\n",
       "      <td>5.0</td>\n",
       "      <td>323.40</td>\n",
       "      <td>49.237181</td>\n",
       "      <td>268.0</td>\n",
       "      <td>291.0</td>\n",
       "      <td>325.0</td>\n",
       "      <td>336.00</td>\n",
       "      <td>397.0</td>\n",
       "      <td>5.0</td>\n",
       "      <td>6.4</td>\n",
       "      <td>...</td>\n",
       "      <td>286.0</td>\n",
       "      <td>315.0</td>\n",
       "      <td>5.0</td>\n",
       "      <td>8.80</td>\n",
       "      <td>1.788854</td>\n",
       "      <td>6.0</td>\n",
       "      <td>8.00</td>\n",
       "      <td>10.0</td>\n",
       "      <td>10.0</td>\n",
       "      <td>10.0</td>\n",
       "    </tr>\n",
       "  </tbody>\n",
       "</table>\n",
       "<p>2 rows × 32 columns</p>\n",
       "</div>"
      ],
      "text/plain": [
       "             1stInnings                                                  \\\n",
       "                  count    mean        std    min    25%    50%     75%   \n",
       "Venue                                                                     \n",
       "Birmingham          4.0  282.25  50.842076  237.0  240.0  277.5  319.75   \n",
       "Old Trafford        5.0  323.40  49.237181  268.0  291.0  325.0  336.00   \n",
       "\n",
       "                    Wickets1       ... 2ndInnings        Wickets2        \\\n",
       "                max    count mean  ...        75%    max    count  mean   \n",
       "Venue                              ...                                    \n",
       "Birmingham    337.0      4.0  7.0  ...      291.0  306.0      4.0  6.25   \n",
       "Old Trafford  397.0      5.0  6.4  ...      286.0  315.0      5.0  8.80   \n",
       "\n",
       "                                                     \n",
       "                   std  min   25%   50%   75%   max  \n",
       "Venue                                                \n",
       "Birmingham    2.629956  4.0  4.75   5.5   7.0  10.0  \n",
       "Old Trafford  1.788854  6.0  8.00  10.0  10.0  10.0  \n",
       "\n",
       "[2 rows x 32 columns]"
      ]
     },
     "execution_count": 10,
     "metadata": {},
     "output_type": "execute_result"
    }
   ],
   "source": [
    "data_wc.groupby('Venue').describe()"
   ]
  },
  {
   "cell_type": "code",
   "execution_count": 45,
   "metadata": {},
   "outputs": [
    {
     "name": "stdout",
     "output_type": "stream",
     "text": [
      "       1stInnings  Wickets1  2ndInnings   Wickets2\n",
      "count    5.000000  5.000000    5.000000   5.000000\n",
      "mean   323.400000  6.400000  240.600000   8.800000\n",
      "std     49.237181  1.140175   67.046998   1.788854\n",
      "min    268.000000  5.000000  143.000000   6.000000\n",
      "25%    291.000000  6.000000  212.000000   8.000000\n",
      "50%    325.000000  6.000000  247.000000  10.000000\n",
      "75%    336.000000  7.000000  286.000000  10.000000\n",
      "max    397.000000  8.000000  315.000000  10.000000\n",
      "       1stInnings  Wickets1  2ndInnings   Wickets2\n",
      "count    4.000000  4.000000    4.000000   4.000000\n",
      "mean   282.250000  7.000000  269.500000   6.250000\n",
      "std     50.842076  1.414214   31.712248   2.629956\n",
      "min    237.000000  6.000000  241.000000   4.000000\n",
      "25%    240.000000  6.000000  244.000000   4.750000\n",
      "50%    277.500000  6.500000  265.500000   5.500000\n",
      "75%    319.750000  7.500000  291.000000   7.000000\n",
      "max    337.000000  9.000000  306.000000  10.000000\n"
     ]
    }
   ],
   "source": [
    "#data_wc.plot.box(grid='True')\n",
    "import seaborn as sns\n",
    "import matplotlib.pyplot as plt\n",
    "data_ot=data_wc[data_wc['Venue']=='Old Trafford']\n",
    "\n",
    "data_bm=data_wc[data_wc['Venue']=='Birmingham']\n",
    "print(data_ot.describe())\n",
    "print(data_bm.describe())"
   ]
  },
  {
   "cell_type": "code",
   "execution_count": null,
   "metadata": {},
   "outputs": [],
   "source": []
  },
  {
   "cell_type": "markdown",
   "metadata": {},
   "source": [
    "Show the Box plot for Old Trafford"
   ]
  },
  {
   "cell_type": "markdown",
   "metadata": {},
   "source": [
    "Box plot by Birmingham"
   ]
  },
  {
   "cell_type": "code",
   "execution_count": 46,
   "metadata": {},
   "outputs": [
    {
     "data": {
      "text/plain": [
       "<matplotlib.axes._subplots.AxesSubplot at 0x7f38de7937b8>"
      ]
     },
     "execution_count": 46,
     "metadata": {},
     "output_type": "execute_result"
    },
    {
     "data": {
      "image/png": "[encoded data removed]",
      "text/plain": [
       "<Figure size 432x288 with 1 Axes>"
      ]
     },
     "metadata": {
      "needs_background": "light"
     },
     "output_type": "display_data"
    }
   ],
   "source": [
    "data_bm.plot.box(grid='True')"
   ]
  },
  {
   "cell_type": "code",
   "execution_count": 47,
   "metadata": {},
   "outputs": [
    {
     "data": {
      "text/plain": [
       "<matplotlib.axes._subplots.AxesSubplot at 0x7f38de8bc400>"
      ]
     },
     "execution_count": 47,
     "metadata": {},
     "output_type": "execute_result"
    },
    {
     "data": {
      "image/png": "[encoded data removed]",
      "text/plain": [
       "<Figure size 432x288 with 1 Axes>"
      ]
     },
     "metadata": {
      "needs_background": "light"
     },
     "output_type": "display_data"
    }
   ],
   "source": [
    "data_ot.plot.box(grid='True')"
   ]
  },
  {
   "cell_type": "code",
   "execution_count": 48,
   "metadata": {},
   "outputs": [
    {
     "data": {
      "text/plain": [
       "<matplotlib.legend.Legend at 0x7f38de599240>"
      ]
     },
     "execution_count": 48,
     "metadata": {},
     "output_type": "execute_result"
    },
    {
     "data": {
      "image/png": "[encoded data removed]",
      "text/plain": [
       "<Figure size 432x288 with 1 Axes>"
      ]
     },
     "metadata": {
      "needs_background": "light"
     },
     "output_type": "display_data"
    }
   ],
   "source": [
    "#data_ot[['1stInnings','2ndInnings']].plot(kind='bar',label=data_ot['Match'])\n",
    "import matplotlib.pyplot as plt\n",
    "\n",
    "x = np.arange(len(data_ot['MatchShort']))  # the label locations\n",
    "width = 0.35  # the width of the bars\n",
    "\n",
    "fig, ax = plt.subplots()\n",
    "rects1 = ax.bar(x - width/2, data_ot['1stInnings'], width, label='Batting First')\n",
    "rects2 = ax.bar(x + width/2, data_ot['2ndInnings'], width, label='Chasing')\n",
    "\n",
    "# Add some text for labels, title and custom x-axis tick labels, etc.\n",
    "ax.set_ylabel('Runs Scored')\n",
    "ax.set_title('Scores comparision in Old Trafford')\n",
    "ax.set_xticks(x)\n",
    "ax.set_xticklabels(data_ot['MatchShort'])\n",
    "ax.legend()\n"
   ]
  },
  {
   "cell_type": "code",
   "execution_count": 50,
   "metadata": {},
   "outputs": [
    {
     "data": {
      "text/plain": [
       "<matplotlib.legend.Legend at 0x7f38ddf404a8>"
      ]
     },
     "execution_count": 50,
     "metadata": {},
     "output_type": "execute_result"
    },
    {
     "data": {
      "image/png": "[encoded data removed]",
      "text/plain": [
       "<Figure size 432x288 with 1 Axes>"
      ]
     },
     "metadata": {
      "needs_background": "light"
     },
     "output_type": "display_data"
    }
   ],
   "source": [
    "x = np.arange(len(data_bm['MatchShort']))  # the label locations\n",
    "width = 0.35  # the width of the bars\n",
    "\n",
    "fig, ax = plt.subplots()\n",
    "rects1 = ax.bar(x - width/2, data_bm['1stInnings'], width, label='Batting First')\n",
    "rects2 = ax.bar(x + width/2, data_bm['2ndInnings'], width, label='Chasing')\n",
    "\n",
    "# Add some text for labels, title and custom x-axis tick labels, etc.\n",
    "ax.set_ylabel('Runs Scored')\n",
    "ax.set_title('Scores comparision in Birmingham')\n",
    "ax.set_xticks(x)\n",
    "ax.set_xticklabels(data_bm['MatchShort'])\n",
    "ax.legend()"
   ]
  },
  {
   "cell_type": "code",
   "execution_count": null,
   "metadata": {},
   "outputs": [],
   "source": []
  }
 ],
 "metadata": {
  "kernelspec": {
   "display_name": "Python 3",
   "language": "python",
   "name": "python3"
  },
  "language_info": {
   "codemirror_mode": {
    "name": "ipython",
    "version": 3
   },
   "file_extension": ".py",
   "mimetype": "text/x-python",
   "name": "python",
   "nbconvert_exporter": "python",
   "pygments_lexer": "ipython3",
   "version": "3.6.7"
  }
 },
 "nbformat": 4,
 "nbformat_minor": 4
}
